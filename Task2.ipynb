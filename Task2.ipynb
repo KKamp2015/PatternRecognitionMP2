{
 "cells": [
  {
   "cell_type": "code",
   "execution_count": 6,
   "id": "4b39e6c6-3b08-4c40-bc7f-6085db0c6635",
   "metadata": {},
   "outputs": [],
   "source": [
    "import matplotlib.pyplot as plt\n",
    "from astropy.io import ascii\n",
    "import random\n",
    "import numpy as np\n",
    "import math"
   ]
  },
  {
   "cell_type": "code",
   "execution_count": 174,
   "id": "0885b65a-ce5e-4759-be0e-3af6811bc228",
   "metadata": {},
   "outputs": [],
   "source": [
    "class Kmean:\n",
    "    def __init__(self,data,init='rand',C=3):\n",
    "        self.data=data\n",
    "        self.init=init\n",
    "        self.C=C\n",
    "        self.data['y']=-1\n",
    "        self.colors=['r','g','b','cyan','magenta','purple','k']\n",
    "        self.Cov=np.cov(list(self.data.values()))\n",
    "        if self.init=='rand':\n",
    "            self.Random()\n",
    "            self.mean()\n",
    "        elif self.init=='forgy':\n",
    "            self.Forgy()\n",
    "        elif self.init=='K++':\n",
    "            self.Kpp()\n",
    "        else:\n",
    "            print('Initialization type not recognized defaulting to random')\n",
    "            self.init='rand'\n",
    "            self.Random()\n",
    "            self.mean()\n",
    "        self.cluster()\n",
    "    def Random(self):\n",
    "            self.mu=[[-1,-1]]*self.C\n",
    "            y=np.random.randint(0,self.C,len(self.data['y']))\n",
    "            test=1\n",
    "            for i in range(self.C):\n",
    "                test*=len(np.where(y==i)[0])\n",
    "            if test==0:\n",
    "                while test==0:\n",
    "                    y=np.random.randint(0,self.C,len(self.data['y']))\n",
    "                    test=1\n",
    "                    for i in range(self.C):\n",
    "                        test*=len(np.where(y==i)[0])\n",
    "            self.data['y']=y\n",
    "    def Forgy(self):\n",
    "        self.mu=[]\n",
    "        sample=[]\n",
    "        while len(np.unique(sample))!=self.C:\n",
    "            sample=np.random.randint(0,len(self.data),self.C)\n",
    "        for a in sample:\n",
    "            muk=list(self.data['col1','col2'][a].values())\n",
    "            self.mu.append(muk)       \n",
    "    def Kpp(self):\n",
    "        self.mu=[]\n",
    "        self.mu.append(self.data['col1','col2'][np.random.randint(0,len(self.data))])\n",
    "        while len(self.mu)!=self.C:\n",
    "            prob=np.zeros(len(self.data))\n",
    "            for i in range(len(self.data)):\n",
    "                t=[0]*len(self.mu)\n",
    "                for k in range(len(self.mu)):\n",
    "                    t[k]=self.Dist2(self.data['col1','col2'][i],self.mu[k])**2\n",
    "                prob[i]=min(t)\n",
    "            prob/=sum(prob)\n",
    "            s=np.random.choice(np.arange(0,len(prob),1),p=prob)\n",
    "            self.mu.append(self.data['col1','col2'][s])\n",
    "    def Dist2(self,x,y):\n",
    "        d=0\n",
    "        if len(x)==len(y):\n",
    "            for z in range(len(y)):\n",
    "                d+=(x[z]-y[z])**2\n",
    "        return d\n",
    "    def cluster(self):\n",
    "        for i in range(len(self.data)):\n",
    "            t=[0]*self.C\n",
    "            for k in range(self.C):\n",
    "                t[k]=self.Dist2(self.data['col1','col2'][i],self.mu[k])\n",
    "            self.data[i]['y']=np.argmin(t)\n",
    "    def mean(self):\n",
    "        for c in range(self.C):\n",
    "            z=np.where(self.data['y']==c)\n",
    "            muk=[np.mean(self.data[z]['col1']),np.mean(self.data[z]['col2'])]\n",
    "            self.mu[c]=muk\n",
    "    def Loss(self,norm=False):\n",
    "        E=0\n",
    "        for c in range(self.C):\n",
    "            z=np.where(self.data['y']==c)\n",
    "            for i in z[0]:\n",
    "                E+=self.Dist2(self.data['col1','col2'][i],self.mu[c])\n",
    "        E/=le\n",
    "        if norm:\n",
    "            return E/np.trace(self.Cov)\n",
    "        else:\n",
    "            return(E)\n",
    "    def plot(self):\n",
    "        for i in range(len(self.data)):\n",
    "            plt.scatter(self.data[i]['col1'],self.data[i]['col2'],color=self.colors[self.data[i]['y']])\n",
    "        for c in range(self.C):\n",
    "            plt.scatter(self.mu[c][0],self.mu[c][1],marker='*',color=self.colors[c],edgecolors='y')\n",
    "        plt.show()\n",
    "    def run(self,itt=100):\n",
    "        for i in range(itt):\n",
    "            self.oldmu=self.mu\n",
    "            self.mean()\n",
    "            self.cluster()\n",
    "            self.mean()\n",
    "            self.plot()\n",
    "            if self.oldmu==self.mu:\n",
    "                print('Convergence Reached',i,' Itterations')\n",
    "                break\n",
    "        if i ==itt:\n",
    "            print('Max Itteration Reached')"
   ]
  },
  {
   "cell_type": "code",
   "execution_count": 175,
   "id": "85b12fca-a6d9-4c09-a112-f66b03fc6f4c",
   "metadata": {
    "scrolled": true,
    "tags": []
   },
   "outputs": [],
   "source": [
    "three=ascii.read('three.csv')"
   ]
  },
  {
   "cell_type": "code",
   "execution_count": 179,
   "id": "a47e4959-fb86-4ecb-82c1-e2e071e64546",
   "metadata": {},
   "outputs": [
    {
     "data": {
      "image/png": "[encoded data removed]",
      "text/plain": [
       "<Figure size 640x480 with 1 Axes>"
      ]
     },
     "metadata": {},
     "output_type": "display_data"
    }
   ],
   "source": [
    "randloss=[]\n",
    "for i in range(1000):    \n",
    "    K=Kmean(three,init='rand')\n",
    "    randloss.append(K.Loss())\n",
    "plt.hist(randloss,100)\n",
    "plt.show()"
   ]
  },
  {
   "cell_type": "code",
   "execution_count": 180,
   "id": "07ae90d8-24ef-4559-ae26-05611ba8ead6",
   "metadata": {},
   "outputs": [
    {
     "data": {
      "image/png": "[encoded data removed]",
      "text/plain": [
       "<Figure size 640x480 with 1 Axes>"
      ]
     },
     "metadata": {},
     "output_type": "display_data"
    }
   ],
   "source": [
    "forgyloss=[]\n",
    "for i in range(1000):    \n",
    "    K=Kmean(three,init='forgy')\n",
    "    forgyloss.append(K.Loss())\n",
    "plt.hist(forgyloss,100)\n",
    "plt.show()"
   ]
  },
  {
   "cell_type": "code",
   "execution_count": null,
   "id": "7e0ee48d-6cd4-4498-aaf8-c9d8239fb27a",
   "metadata": {},
   "outputs": [],
   "source": [
    "kpploss=[]\n",
    "for i in range(1000):    \n",
    "    K=Kmean(three,init='K++')\n",
    "    kpploss.append(K.Loss())\n",
    "plt.hist(kpploss,100)\n",
    "plt.show()"
   ]
  },
  {
   "cell_type": "code",
   "execution_count": null,
   "id": "f593c9c7-98cc-4159-9cb5-d289a612655f",
   "metadata": {},
   "outputs": [],
   "source": [
    "plt.hist((randloss,forgyloss,kpploss),100,density=True,log=True,label=['Random','Forgy','K++'])\n",
    "#plt.hist(randloss,100,log=True)\n",
    "#plt.hist(forgyloss,100,log=True)\n",
    "#plt.hist(kpploss,100,log=True)\n",
    "plt.legend()\n",
    "plt.show()"
   ]
  },
  {
   "cell_type": "code",
   "execution_count": null,
   "id": "616637e6-3bcf-48fd-904a-ef37217020b3",
   "metadata": {},
   "outputs": [],
   "source": []
  }
 ],
 "metadata": {
  "kernelspec": {
   "display_name": "Python 3 (ipykernel)",
   "language": "python",
   "name": "python3"
  },
  "language_info": {
   "codemirror_mode": {
    "name": "ipython",
    "version": 3
   },
   "file_extension": ".py",
   "mimetype": "text/x-python",
   "name": "python",
   "nbconvert_exporter": "python",
   "pygments_lexer": "ipython3",
   "version": "3.9.13"
  }
 },
 "nbformat": 4,
 "nbformat_minor": 5
}
