{
 "cells": [
  {
   "cell_type": "code",
   "execution_count": 327,
   "id": "4b39e6c6-3b08-4c40-bc7f-6085db0c6635",
   "metadata": {},
   "outputs": [],
   "source": [
    "import matplotlib.pyplot as plt\n",
    "from astropy.io import ascii\n",
    "import random\n",
    "import numpy as np"
   ]
  },
  {
   "cell_type": "code",
   "execution_count": 328,
   "id": "0885b65a-ce5e-4759-be0e-3af6811bc228",
   "metadata": {},
   "outputs": [],
   "source": [
    "class Kmean:\n",
    "    def __init__(self,data,init='rand',C=3):\n",
    "        self.data=data\n",
    "        self.init=init\n",
    "        self.C=C\n",
    "        self.data['y']=-1\n",
    "        self.rangex=[min(three['col1']),max(three['col1'])]\n",
    "        self.rangey=[min(three['col2']),max(three['col2'])]\n",
    "        self.colors=['r','g','b']\n",
    "        if self.init=='rand':\n",
    "            self.mu=[]\n",
    "            for a in range(self.C):\n",
    "                muk=[random.uniform(self.rangex[0],self.rangex[1]),random.uniform(self.rangey[0],self.rangey[1])]\n",
    "                self.mu.append(muk)   \n",
    "    def Dist(self,x,y):\n",
    "        p=np.array([x['col1'],x['col2']])\n",
    "        r=p-np.array(y)\n",
    "        return np.linalg.norm(r)\n",
    "    def cluster(self):\n",
    "        for i in range(len(self.data)):\n",
    "            t=[0,0,0]\n",
    "            for k in range(self.C):\n",
    "                t[k]=Dist(self.data[i]['col1','col2'],self.mu[k])\n",
    "            self.data[i]['y']=np.argmax(t)\n",
    "    def Mean(self):\n",
    "        for c in range(self.C):\n",
    "            z=np.where(self.data['y']==c)\n",
    "            muk=[np.mean(self.data[z]['col1']),np.mean(self.data[z]['col2'])]\n",
    "            self.mu[c]=muk\n",
    "    def Plot(self):\n",
    "        for i in range(len(self.data)):\n",
    "            plt.scatter(self.data[i]['col1'],self.data[i]['col2'],color=self.colors[self.data[i]['y']])\n",
    "        for c in range(C):\n",
    "            plt.scatter(self.mu[c][0],self.mu[c][1],marker='*',color=self.colors[c])"
   ]
  },
  {
   "cell_type": "code",
   "execution_count": 329,
   "id": "85b12fca-a6d9-4c09-a112-f66b03fc6f4c",
   "metadata": {
    "scrolled": true,
    "tags": []
   },
   "outputs": [],
   "source": [
    "three=ascii.read('three.csv')"
   ]
  },
  {
   "cell_type": "code",
   "execution_count": 330,
   "id": "a47e4959-fb86-4ecb-82c1-e2e071e64546",
   "metadata": {},
   "outputs": [
    {
     "data": {
      "image/png": "[encoded data removed]",
      "text/plain": [
       "<Figure size 640x480 with 1 Axes>"
      ]
     },
     "metadata": {},
     "output_type": "display_data"
    }
   ],
   "source": [
    "K=Kmean(three)\n",
    "K.cluster()\n",
    "K.Plot()"
   ]
  }
 ],
 "metadata": {
  "kernelspec": {
   "display_name": "Python 3 (ipykernel)",
   "language": "python",
   "name": "python3"
  },
  "language_info": {
   "codemirror_mode": {
    "name": "ipython",
    "version": 3
   },
   "file_extension": ".py",
   "mimetype": "text/x-python",
   "name": "python",
   "nbconvert_exporter": "python",
   "pygments_lexer": "ipython3",
   "version": "3.7.13"
  }
 },
 "nbformat": 4,
 "nbformat_minor": 5
}
