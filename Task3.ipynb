{
 "cells": [
  {
   "cell_type": "code",
   "execution_count": 3,
   "id": "caa33b1e-343c-461f-ad79-1fcf6c371d0c",
   "metadata": {},
   "outputs": [],
   "source": [
    "import matplotlib.pyplot as plt\n",
    "from astropy.io import ascii\n",
    "import random\n",
    "import numpy as np\n",
    "import math"
   ]
  },
  {
   "cell_type": "code",
   "execution_count": 59,
   "id": "580e6ef2-0bef-453b-ad4a-a69cd6529b16",
   "metadata": {},
   "outputs": [],
   "source": [
    "class Kmean:\n",
    "    def __init__(self,data,init='rand',C=3):\n",
    "        self.data=data\n",
    "        self.init=init\n",
    "        self.C=C\n",
    "        self.data['y']=-1\n",
    "        self.colors=['r','g','b','cyan','magenta','purple','k']\n",
    "        if self.C>len(self.colors):\n",
    "            self.colors=self.colors*int(np.ceil(self.C/len(self.colors)))\n",
    "        self.Cov=np.cov(list(self.data.values()))\n",
    "        if self.init=='rand':\n",
    "            self.Random()\n",
    "            self.mean()\n",
    "        elif self.init=='forgy':\n",
    "            self.Forgy()\n",
    "        elif self.init=='K++':\n",
    "            self.Kpp()\n",
    "        else:\n",
    "            print('Initialization type not recognized defaulting to random')\n",
    "            self.init='rand'\n",
    "            self.Random()\n",
    "            self.mean()\n",
    "        self.cluster()\n",
    "    def Random(self):\n",
    "            self.mu=[[-1,-1]]*self.C\n",
    "            y=np.random.randint(0,self.C,len(self.data['y']))\n",
    "            test=1\n",
    "            for i in range(self.C):\n",
    "                test*=len(np.where(y==i)[0])\n",
    "            if test==0:\n",
    "                while test==0:\n",
    "                    y=np.random.randint(0,self.C,len(self.data['y']))\n",
    "                    test=1\n",
    "                    for i in range(self.C):\n",
    "                        test*=len(np.where(y==i)[0])\n",
    "            self.data['y']=y\n",
    "    def Forgy(self):\n",
    "        self.mu=[]\n",
    "        sample=[]\n",
    "        while len(np.unique(sample))!=self.C:\n",
    "            sample=np.random.randint(0,len(self.data),self.C)\n",
    "        for a in sample:\n",
    "            muk=list(self.data['col1','col2'][a].values())\n",
    "            self.mu.append(muk)       \n",
    "    def Kpp(self):\n",
    "        self.mu=[]\n",
    "        self.mu.append(self.data['col1','col2'][np.random.randint(0,len(self.data))])\n",
    "        while len(self.mu)!=self.C:\n",
    "            prob=np.zeros(len(self.data))\n",
    "            for i in range(len(self.data)):\n",
    "                t=[0]*len(self.mu)\n",
    "                for k in range(len(self.mu)):\n",
    "                    t[k]=self.Dist2(self.data['col1','col2'][i],self.mu[k])**2\n",
    "                prob[i]=min(t)\n",
    "            prob/=sum(prob)\n",
    "            s=np.random.choice(np.arange(0,len(prob),1),p=prob)\n",
    "            self.mu.append(self.data['col1','col2'][s])\n",
    "    def Dist2(self,x,y):\n",
    "        d=0\n",
    "        if len(x)==len(y):\n",
    "            for z in range(len(y)):\n",
    "                d+=(x[z]-y[z])**2\n",
    "        return d\n",
    "    def cluster(self):\n",
    "        for i in range(len(self.data)):\n",
    "            t=[0]*self.C\n",
    "            for k in range(self.C):\n",
    "                t[k]=self.Dist2(self.data['col1','col2'][i],self.mu[k])\n",
    "            self.data[i]['y']=np.argmin(t)\n",
    "    def mean(self):\n",
    "        for c in range(self.C):\n",
    "            z=np.where(self.data['y']==c)\n",
    "            muk=[np.mean(self.data[z]['col1']),np.mean(self.data[z]['col2'])]\n",
    "            self.mu[c]=muk\n",
    "    def Loss(self,norm=False):\n",
    "        E=0\n",
    "        for c in range(self.C):\n",
    "            z=np.where(self.data['y']==c)\n",
    "            for i in z[0]:\n",
    "                E+=self.Dist2(self.data['col1','col2'][i],self.mu[c])\n",
    "        if norm:\n",
    "            return E/np.trace(self.Cov)\n",
    "        else:\n",
    "            return(E)\n",
    "    def plot(self):\n",
    "        for i in range(len(self.data)):\n",
    "            plt.scatter(self.data[i]['col1'],self.data[i]['col2'],color=self.colors[self.data[i]['y']])\n",
    "        for c in range(self.C):\n",
    "            plt.scatter(self.mu[c][0],self.mu[c][1],marker='*',color=self.colors[c],edgecolors='y')\n",
    "        plt.show()\n",
    "    def run(self,itt=100):\n",
    "        for i in range(itt):\n",
    "            self.oldmu=self.mu.copy()\n",
    "            self.mean()\n",
    "            self.cluster()\n",
    "            if self.oldmu==self.mu:\n",
    "                print('Convergence Reached',i,' Itterations')\n",
    "                break\n",
    "        if i ==itt:\n",
    "            print('Max Itteration Reached')"
   ]
  },
  {
   "cell_type": "code",
   "execution_count": 62,
   "id": "6ae4d603-4fae-43f4-97a8-7f2d324267dd",
   "metadata": {},
   "outputs": [],
   "source": [
    "three=ascii.read('atoll.csv')"
   ]
  },
  {
   "cell_type": "code",
   "execution_count": 64,
   "id": "1c2456e7-858e-48a9-831b-cffa7454a5ac",
   "metadata": {},
   "outputs": [
    {
     "name": "stdout",
     "output_type": "stream",
     "text": [
      "Convergence Reached 4  Itterations\n"
     ]
    },
    {
     "data": {
      "image/png": "[encoded data removed]",
      "text/plain": [
       "<Figure size 640x480 with 1 Axes>"
      ]
     },
     "metadata": {},
     "output_type": "display_data"
    }
   ],
   "source": [
    "K=Kmean(three,init='rand',C=5)\n",
    "K.run()\n",
    "K.plot()"
   ]
  },
  {
   "cell_type": "code",
   "execution_count": 44,
   "id": "d0ea45ac-aefd-4e0f-9423-2f2c9360e8ab",
   "metadata": {},
   "outputs": [
    {
     "data": {
      "text/plain": [
       "3.2973590259018777"
      ]
     },
     "execution_count": 44,
     "metadata": {},
     "output_type": "execute_result"
    }
   ],
   "source": [
    "K.Loss()"
   ]
  },
  {
   "cell_type": "code",
   "execution_count": 45,
   "id": "e058e44a-10e9-46b9-adb3-82e69089760d",
   "metadata": {},
   "outputs": [
    {
     "data": {
      "text/plain": [
       "8.618627944278886"
      ]
     },
     "execution_count": 45,
     "metadata": {},
     "output_type": "execute_result"
    }
   ],
   "source": [
    "K.Loss(True)"
   ]
  },
  {
   "cell_type": "code",
   "execution_count": 16,
   "id": "77c4cd7f-ee0a-4af7-b475-f486e255e776",
   "metadata": {},
   "outputs": [
    {
     "data": {
      "text/plain": [
       "['2', '2']"
      ]
     },
     "execution_count": 16,
     "metadata": {},
     "output_type": "execute_result"
    }
   ],
   "source": [
    "['2']*int(np.ceil(3/2))\n"
   ]
  },
  {
   "cell_type": "code",
   "execution_count": null,
   "id": "3a72a289-d656-4795-b075-3bc7eb7d0510",
   "metadata": {},
   "outputs": [
    {
     "data": {
      "text/plain": [
       "array([0.00378333, 0.0011    ])"
      ]
     },
     "execution_count": 55,
     "metadata": {},
     "output_type": "execute_result"
    }
   ],
   "source": []
  }
 ],
 "metadata": {
  "kernelspec": {
   "display_name": "Python 3 (ipykernel)",
   "language": "python",
   "name": "python3"
  },
  "language_info": {
   "codemirror_mode": {
    "name": "ipython",
    "version": 3
   },
   "file_extension": ".py",
   "mimetype": "text/x-python",
   "name": "python",
   "nbconvert_exporter": "python",
   "pygments_lexer": "ipython3",
   "version": "3.9.13"
  }
 },
 "nbformat": 4,
 "nbformat_minor": 5
}
