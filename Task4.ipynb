{
 "cells": [
  {
   "cell_type": "code",
   "execution_count": 23,
   "id": "64b62386-a538-4e59-a197-0b908186f408",
   "metadata": {},
   "outputs": [],
   "source": [
    "from PIL import Image\n",
    "import matplotlib.pyplot as plt\n",
    "import numpy as np\n",
    "from itertools import product\n",
    "import copy"
   ]
  },
  {
   "cell_type": "code",
   "execution_count": 2,
   "id": "1604b0a2-6137-46a5-9577-21d61d0ab073",
   "metadata": {},
   "outputs": [],
   "source": [
    "night=Image.open('vangogh-starry-night.png')\n",
    "w, h = night.size\n",
    "reduced=np.array(night)/255\n",
    "vecs=reduced.reshape(7644,5,5).reshape(7644,25)"
   ]
  },
  {
   "cell_type": "code",
   "execution_count": 53,
   "id": "60d911c1-c4bd-49d2-8570-79cdfdaff4ef",
   "metadata": {},
   "outputs": [],
   "source": [
    "class KmeanVQ:\n",
    "    def __init__(self,data,init='rand',C=3):\n",
    "        self.data=data\n",
    "        self.init=init\n",
    "        self.C=C\n",
    "        self.labels=np.zeros(len(data))\n",
    "        self.colors=['r','g','b','cyan','magenta','purple','k']\n",
    "        self.Cov=np.cov(self.data)\n",
    "        if self.init=='rand':\n",
    "            self.Random()\n",
    "            self.mean()\n",
    "        elif self.init=='forgy':\n",
    "            self.Forgy()\n",
    "            self.cluster()\n",
    "        elif self.init=='K++':\n",
    "            self.Kpp()\n",
    "            self.cluster()\n",
    "        else:\n",
    "            print('Initialization type not recognized defaulting to random')\n",
    "            self.init='rand'\n",
    "            self.Random()\n",
    "            self.mean()\n",
    "    def Random(self):\n",
    "            self.mu=[[-1,-1]]*self.C\n",
    "            y=np.random.randint(0,self.C,len(self.labels))\n",
    "            test=1\n",
    "            for i in range(self.C):\n",
    "                test*=len(np.where(y==i)[0])\n",
    "            if test==0:\n",
    "                while test==0:\n",
    "                    y=np.random.randint(0,self.C,len(self.labels))\n",
    "                    test=1\n",
    "                    for i in range(self.C):\n",
    "                        test*=len(np.where(y==i)[0])\n",
    "            self.labels=y\n",
    "    def Forgy(self):\n",
    "        self.mu=[]\n",
    "        sample=[]\n",
    "        while len(np.unique(sample))!=self.C:\n",
    "            sample=np.random.randint(0,len(self.data),self.C)\n",
    "        for a in sample:\n",
    "            muk=list(self.data[a].values())\n",
    "            self.mu.append(muk)       \n",
    "    def Kpp(self):\n",
    "        self.mu=[]\n",
    "        self.mu.append(self.data[np.random.randint(0,len(self.data))])\n",
    "        while len(self.mu)!=self.C:\n",
    "            prob=np.zeros(len(self.data))\n",
    "            for i in range(len(self.data)):\n",
    "                t=[0]*len(self.mu)\n",
    "                for k in range(len(self.mu)):\n",
    "                    t[k]=self.Dist2(self.data[i],self.mu[k])**2\n",
    "                prob[i]=min(t)\n",
    "            prob/=sum(prob)\n",
    "            s=np.random.choice(np.arange(0,len(prob),1),p=prob)\n",
    "            self.mu.append(self.data[s])\n",
    "    def Dist2(self,x,y):\n",
    "        d=np.sum((x-y)**2)\n",
    "        return d\n",
    "    def cluster(self):\n",
    "        for i in range(len(self.data)):\n",
    "            t=[0]*self.C\n",
    "            for k in range(self.C):\n",
    "                t[k]=self.Dist2(self.data[i],self.mu[k])\n",
    "            self.labels[i]=np.argmin(t)\n",
    "    def mean(self):\n",
    "        for c in range(self.C):\n",
    "            z=np.where(self.labels==c)\n",
    "            muk=[np.mean(self.data[z],axis=0)]\n",
    "            self.mu[c]=muk\n",
    "    def Loss(self,norm=False):\n",
    "        E=0\n",
    "        for c in range(self.C):\n",
    "            z=np.where(self.labels==c)\n",
    "            for i in z[0]:\n",
    "                E+=self.Dist2(self.data[i],self.mu[c])\n",
    "        if norm:\n",
    "            return E/np.trace(self.Cov)\n",
    "        else:\n",
    "            return(E)\n",
    "    def run(self,itt=100):\n",
    "        for i in range(itt):\n",
    "            self.oldmu = copy.deepcopy(self.mu)\n",
    "            self.mean()\n",
    "            self.cluster()\n",
    "            #self.plot()\n",
    "            if np.array_equal(self.oldmu,self.mu):\n",
    "                print('Convergence Reached',i,' Itterations')\n",
    "                break\n",
    "            if i ==itt:\n",
    "                print('Max Itteration Reached')"
   ]
  },
  {
   "cell_type": "code",
   "execution_count": null,
   "id": "765e8f34-253a-4858-bbd1-eadaba394cb2",
   "metadata": {},
   "outputs": [],
   "source": [
    "K=KmeanVQ(vecs,'K++',C=1000)\n",
    "K.run()"
   ]
  },
  {
   "cell_type": "code",
   "execution_count": null,
   "id": "29ff8e31-6f1d-4110-a28c-c7a9862affce",
   "metadata": {},
   "outputs": [],
   "source": [
    "comp=[]\n",
    "for i in range(len(vecs)):\n",
    "    comp.append(K.mu[int(K.labels[i])])"
   ]
  },
  {
   "cell_type": "code",
   "execution_count": null,
   "id": "a01bd50c-a0c4-4b08-adac-c075d1d17728",
   "metadata": {},
   "outputs": [],
   "source": [
    "img=np.array(comp).reshape(7644,5,5).reshape(h,w)"
   ]
  },
  {
   "cell_type": "code",
   "execution_count": null,
   "id": "277ac817-2cbb-4488-8433-6ebc78a674bf",
   "metadata": {},
   "outputs": [],
   "source": [
    "plt.imshow(img)"
   ]
  },
  {
   "cell_type": "code",
   "execution_count": 47,
   "id": "429ca4d4-68b8-4158-8653-29b4538b9d91",
   "metadata": {},
   "outputs": [
    {
     "data": {
      "text/plain": [
       "1.705359477124183"
      ]
     },
     "execution_count": 47,
     "metadata": {},
     "output_type": "execute_result"
    }
   ],
   "source": [
    "np.sum((K.mu[0]-K.mu[1])**2)"
   ]
  },
  {
   "cell_type": "code",
   "execution_count": 22,
   "id": "4d69bfb9-953c-4fbb-b73c-94793d9cc4dd",
   "metadata": {},
   "outputs": [
    {
     "ename": "AttributeError",
     "evalue": "type object 'list' has no attribute 'stream'",
     "output_type": "error",
     "traceback": [
      "\u001b[0;31m---------------------------------------------------------------------------\u001b[0m",
      "\u001b[0;31mAttributeError\u001b[0m                            Traceback (most recent call last)",
      "\u001b[0;32m/var/folders/3n/8rkhh9954mbgkj7bzwp11jgr0000gn/T/ipykernel_54193/3881360750.py\u001b[0m in \u001b[0;36m<module>\u001b[0;34m\u001b[0m\n\u001b[0;32m----> 1\u001b[0;31m \u001b[0mlist\u001b[0m\u001b[0;34m.\u001b[0m\u001b[0mstream\u001b[0m\u001b[0;34m\u001b[0m\u001b[0;34m\u001b[0m\u001b[0m\n\u001b[0m",
      "\u001b[0;31mAttributeError\u001b[0m: type object 'list' has no attribute 'stream'"
     ]
    }
   ],
   "source": [
    "list.stream"
   ]
  },
  {
   "cell_type": "code",
   "execution_count": null,
   "id": "1d532329-7690-4b55-a652-15fbaf076ade",
   "metadata": {},
   "outputs": [],
   "source": []
  }
 ],
 "metadata": {
  "kernelspec": {
   "display_name": "Python 3 (ipykernel)",
   "language": "python",
   "name": "python3"
  },
  "language_info": {
   "codemirror_mode": {
    "name": "ipython",
    "version": 3
   },
   "file_extension": ".py",
   "mimetype": "text/x-python",
   "name": "python",
   "nbconvert_exporter": "python",
   "pygments_lexer": "ipython3",
   "version": "3.9.13"
  }
 },
 "nbformat": 4,
 "nbformat_minor": 5
}
